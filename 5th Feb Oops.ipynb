{
 "cells": [
  {
   "cell_type": "code",
   "execution_count": 6,
   "id": "94312ad9-f3dd-4078-8a3e-c4e5ce8beb7d",
   "metadata": {},
   "outputs": [],
   "source": [
    "''' ANSWER-1)Python is an object oriented programming language. Almost everything in Python is an object,\n",
    " with its properties and methods. A Class is like an object constructor, or a \"blueprint\" for creating objects.'''\n",
    "class school :\n",
    "    def __init__(self,school_name,student_name,student_class,mobile_number) :\n",
    "        self.school_name = school_name\n",
    "        self.student_name = student_name\n",
    "        self.student_class = student_class\n",
    "        self.mobile_number = mobile_number\n",
    "        \n",
    "        \n",
    "        \n",
    "    def student_details_all(self) :\n",
    "        return self.school_name,self.student_name,self.student_class,self.mobile_number    "
   ]
  },
  {
   "cell_type": "code",
   "execution_count": 7,
   "id": "a4e53375-381e-4069-9965-c8212cb02e58",
   "metadata": {},
   "outputs": [],
   "source": [
    "school1 =school('Sarvodaya public school','vishal','X',4879951526)"
   ]
  },
  {
   "cell_type": "code",
   "execution_count": 8,
   "id": "b53cfc43-9d93-4bc9-8c04-67765b1ac2d0",
   "metadata": {},
   "outputs": [
    {
     "data": {
      "text/plain": [
       "('Sarvodaya public school', 'vishal', 'X', 4879951526)"
      ]
     },
     "execution_count": 8,
     "metadata": {},
     "output_type": "execute_result"
    }
   ],
   "source": [
    "school1.student_details_all()\n"
   ]
  },
  {
   "cell_type": "code",
   "execution_count": 10,
   "id": "977e7e84-51fc-45b9-b125-0aebc69e93ee",
   "metadata": {},
   "outputs": [],
   "source": [
    "# ANSWER-2)Four pillars of OOPs.\n",
    "#            a)INHERITANCE\n",
    "#            b)POLYMORPHISM\n",
    "#            c)ENCAPSULATION\n",
    "#            d)ABSTRACTION\n",
    "           \n"
   ]
  },
  {
   "cell_type": "code",
   "execution_count": 12,
   "id": "d3e1aa52-ed47-402e-8f1d-db9ff50d0068",
   "metadata": {},
   "outputs": [
    {
     "name": "stdout",
     "output_type": "stream",
     "text": [
      "John\n",
      "36\n"
     ]
    }
   ],
   "source": [
    "# ANSWER-3) All classes have a function called __init__(), which is always executed when the class is being initiated\n",
    "class Person:\n",
    "    def __init__(self, name, age):\n",
    "        self.name = name\n",
    "        self.age = age\n",
    "        \n",
    "p1 = Person(\"John\", 36)\n",
    "\n",
    "print(p1.name)\n",
    "print(p1.age)"
   ]
  },
  {
   "cell_type": "code",
   "execution_count": 13,
   "id": "c6a0061f-5b62-4e27-97ad-3fea219fbf45",
   "metadata": {},
   "outputs": [],
   "source": [
    "# ANSWER-4)The self variable is used to represent the instance of the class which is often used in object-oriented programming. It works as a reference to the object. Python uses the self parameter to refer to instance attributes and methods of the class.\n"
   ]
  },
  {
   "cell_type": "code",
   "execution_count": 14,
   "id": "18a8bbac-ce9b-49c5-a865-d8a87840c897",
   "metadata": {},
   "outputs": [],
   "source": [
    "# ANSWER-5)Inheritance is a mechanism in which one class acquires the property of another class. For example, a child inherits the traits of his/her parents.\n",
    "# single inheritance\n",
    "class subject :\n",
    "    def subject_name(self):\n",
    "        return 'this is my data science subject'"
   ]
  },
  {
   "cell_type": "code",
   "execution_count": 15,
   "id": "c542cdce-2dc9-4432-8f0d-bebb11d6490d",
   "metadata": {},
   "outputs": [],
   "source": [
    "class subject1(subject) :\n",
    "    pass"
   ]
  },
  {
   "cell_type": "code",
   "execution_count": 16,
   "id": "ad972873-d360-4a8c-b5cd-51ebbf41e180",
   "metadata": {},
   "outputs": [],
   "source": [
    "name = subject1()"
   ]
  },
  {
   "cell_type": "code",
   "execution_count": 17,
   "id": "d62e4ad1-0ba5-4c64-8c47-6b84f9c89fe0",
   "metadata": {},
   "outputs": [
    {
     "data": {
      "text/plain": [
       "'this is my data science subject'"
      ]
     },
     "execution_count": 17,
     "metadata": {},
     "output_type": "execute_result"
    }
   ],
   "source": [
    "name.subject_name()"
   ]
  },
  {
   "cell_type": "code",
   "execution_count": 24,
   "id": "f267fb0f-3790-43de-b481-2ff0e887dc78",
   "metadata": {},
   "outputs": [],
   "source": [
    "# multilevel inheritance\n",
    "class class1 :\n",
    "    def test_class1(self):\n",
    "        return 'this is a meth from class1'"
   ]
  },
  {
   "cell_type": "code",
   "execution_count": 25,
   "id": "e1a21142-df3e-4e06-a2e2-35a6b66e296d",
   "metadata": {},
   "outputs": [],
   "source": [
    "class class2(class1) :\n",
    "    def test_class2(self) :\n",
    "        return \"this is a meth from class2\""
   ]
  },
  {
   "cell_type": "code",
   "execution_count": 26,
   "id": "9294e065-9d82-4b6a-abdc-722824420ac8",
   "metadata": {},
   "outputs": [],
   "source": [
    "class class3(class2) :\n",
    "    pass"
   ]
  },
  {
   "cell_type": "code",
   "execution_count": 27,
   "id": "2ce0a31f-6f48-41d2-9b2d-ddd751737fba",
   "metadata": {},
   "outputs": [],
   "source": [
    "obj_class3 = class3()"
   ]
  },
  {
   "cell_type": "code",
   "execution_count": 29,
   "id": "b2eb0c1d-47cc-49e8-aa9c-62d4d8b93c08",
   "metadata": {},
   "outputs": [
    {
     "data": {
      "text/plain": [
       "'this is a meth from class1'"
      ]
     },
     "execution_count": 29,
     "metadata": {},
     "output_type": "execute_result"
    }
   ],
   "source": [
    "obj_class3.test_class1()\n",
    "# obj_class3.test_class2()"
   ]
  },
  {
   "cell_type": "code",
   "execution_count": 30,
   "id": "9236fbe5-43d5-4662-87f1-d099ba101e95",
   "metadata": {},
   "outputs": [
    {
     "data": {
      "text/plain": [
       "'this is a meth from class2'"
      ]
     },
     "execution_count": 30,
     "metadata": {},
     "output_type": "execute_result"
    }
   ],
   "source": [
    "obj_class3.test_class2()"
   ]
  },
  {
   "cell_type": "code",
   "execution_count": 31,
   "id": "419dcbde-08f4-4330-a492-f271f4928b37",
   "metadata": {},
   "outputs": [],
   "source": [
    "# multiple inheritance\n",
    "class class1 :\n",
    "    def test_class1(self) :\n",
    "        return 'this is class1'"
   ]
  },
  {
   "cell_type": "code",
   "execution_count": 32,
   "id": "c7bcdce7-771c-4d7f-8101-f0f84200bdb0",
   "metadata": {},
   "outputs": [],
   "source": [
    "class class2 :\n",
    "    def test_class2(self) :\n",
    "        return 'this is class2'"
   ]
  },
  {
   "cell_type": "code",
   "execution_count": 33,
   "id": "89dcac56-154e-49b0-a3ac-d99067a746cc",
   "metadata": {},
   "outputs": [],
   "source": [
    "class class3(class1,class2):\n",
    "    pass"
   ]
  },
  {
   "cell_type": "code",
   "execution_count": 34,
   "id": "b82ea5c4-ea74-441a-85d2-1cd966f8ec6e",
   "metadata": {},
   "outputs": [],
   "source": [
    "obj_class3 = class3()"
   ]
  },
  {
   "cell_type": "code",
   "execution_count": 35,
   "id": "557d7308-31ff-41d4-bc00-5dbc0ce791cd",
   "metadata": {},
   "outputs": [
    {
     "data": {
      "text/plain": [
       "'this is class1'"
      ]
     },
     "execution_count": 35,
     "metadata": {},
     "output_type": "execute_result"
    }
   ],
   "source": [
    "obj_class3.test_class1()"
   ]
  },
  {
   "cell_type": "code",
   "execution_count": null,
   "id": "a3424e9e-c1aa-4977-8f5f-5de693106851",
   "metadata": {},
   "outputs": [],
   "source": []
  }
 ],
 "metadata": {
  "kernelspec": {
   "display_name": "Python 3 (ipykernel)",
   "language": "python",
   "name": "python3"
  },
  "language_info": {
   "codemirror_mode": {
    "name": "ipython",
    "version": 3
   },
   "file_extension": ".py",
   "mimetype": "text/x-python",
   "name": "python",
   "nbconvert_exporter": "python",
   "pygments_lexer": "ipython3",
   "version": "3.10.8"
  }
 },
 "nbformat": 4,
 "nbformat_minor": 5
}
